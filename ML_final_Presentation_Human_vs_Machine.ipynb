{
  "nbformat": 4,
  "nbformat_minor": 0,
  "metadata": {
    "colab": {
      "provenance": []
    },
    "kernelspec": {
      "name": "python3",
      "display_name": "Python 3"
    },
    "language_info": {
      "name": "python"
    }
  },
  "cells": [
    {
      "cell_type": "code",
      "execution_count": 21,
      "metadata": {
        "id": "DuDTM-Ma2mC7",
        "colab": {
          "base_uri": "https://localhost:8080/",
          "height": 73
        },
        "outputId": "506a8d61-949d-43e8-832e-f66cd9bf2fc2"
      },
      "outputs": [
        {
          "output_type": "display_data",
          "data": {
            "text/plain": [
              "<IPython.core.display.HTML object>"
            ],
            "text/html": [
              "\n",
              "     <input type=\"file\" id=\"files-c3a6e83f-39a7-4dac-bf91-7f33c4e9717f\" name=\"files[]\" multiple disabled\n",
              "        style=\"border:none\" />\n",
              "     <output id=\"result-c3a6e83f-39a7-4dac-bf91-7f33c4e9717f\">\n",
              "      Upload widget is only available when the cell has been executed in the\n",
              "      current browser session. Please rerun this cell to enable.\n",
              "      </output>\n",
              "      <script>// Copyright 2017 Google LLC\n",
              "//\n",
              "// Licensed under the Apache License, Version 2.0 (the \"License\");\n",
              "// you may not use this file except in compliance with the License.\n",
              "// You may obtain a copy of the License at\n",
              "//\n",
              "//      http://www.apache.org/licenses/LICENSE-2.0\n",
              "//\n",
              "// Unless required by applicable law or agreed to in writing, software\n",
              "// distributed under the License is distributed on an \"AS IS\" BASIS,\n",
              "// WITHOUT WARRANTIES OR CONDITIONS OF ANY KIND, either express or implied.\n",
              "// See the License for the specific language governing permissions and\n",
              "// limitations under the License.\n",
              "\n",
              "/**\n",
              " * @fileoverview Helpers for google.colab Python module.\n",
              " */\n",
              "(function(scope) {\n",
              "function span(text, styleAttributes = {}) {\n",
              "  const element = document.createElement('span');\n",
              "  element.textContent = text;\n",
              "  for (const key of Object.keys(styleAttributes)) {\n",
              "    element.style[key] = styleAttributes[key];\n",
              "  }\n",
              "  return element;\n",
              "}\n",
              "\n",
              "// Max number of bytes which will be uploaded at a time.\n",
              "const MAX_PAYLOAD_SIZE = 100 * 1024;\n",
              "\n",
              "function _uploadFiles(inputId, outputId) {\n",
              "  const steps = uploadFilesStep(inputId, outputId);\n",
              "  const outputElement = document.getElementById(outputId);\n",
              "  // Cache steps on the outputElement to make it available for the next call\n",
              "  // to uploadFilesContinue from Python.\n",
              "  outputElement.steps = steps;\n",
              "\n",
              "  return _uploadFilesContinue(outputId);\n",
              "}\n",
              "\n",
              "// This is roughly an async generator (not supported in the browser yet),\n",
              "// where there are multiple asynchronous steps and the Python side is going\n",
              "// to poll for completion of each step.\n",
              "// This uses a Promise to block the python side on completion of each step,\n",
              "// then passes the result of the previous step as the input to the next step.\n",
              "function _uploadFilesContinue(outputId) {\n",
              "  const outputElement = document.getElementById(outputId);\n",
              "  const steps = outputElement.steps;\n",
              "\n",
              "  const next = steps.next(outputElement.lastPromiseValue);\n",
              "  return Promise.resolve(next.value.promise).then((value) => {\n",
              "    // Cache the last promise value to make it available to the next\n",
              "    // step of the generator.\n",
              "    outputElement.lastPromiseValue = value;\n",
              "    return next.value.response;\n",
              "  });\n",
              "}\n",
              "\n",
              "/**\n",
              " * Generator function which is called between each async step of the upload\n",
              " * process.\n",
              " * @param {string} inputId Element ID of the input file picker element.\n",
              " * @param {string} outputId Element ID of the output display.\n",
              " * @return {!Iterable<!Object>} Iterable of next steps.\n",
              " */\n",
              "function* uploadFilesStep(inputId, outputId) {\n",
              "  const inputElement = document.getElementById(inputId);\n",
              "  inputElement.disabled = false;\n",
              "\n",
              "  const outputElement = document.getElementById(outputId);\n",
              "  outputElement.innerHTML = '';\n",
              "\n",
              "  const pickedPromise = new Promise((resolve) => {\n",
              "    inputElement.addEventListener('change', (e) => {\n",
              "      resolve(e.target.files);\n",
              "    });\n",
              "  });\n",
              "\n",
              "  const cancel = document.createElement('button');\n",
              "  inputElement.parentElement.appendChild(cancel);\n",
              "  cancel.textContent = 'Cancel upload';\n",
              "  const cancelPromise = new Promise((resolve) => {\n",
              "    cancel.onclick = () => {\n",
              "      resolve(null);\n",
              "    };\n",
              "  });\n",
              "\n",
              "  // Wait for the user to pick the files.\n",
              "  const files = yield {\n",
              "    promise: Promise.race([pickedPromise, cancelPromise]),\n",
              "    response: {\n",
              "      action: 'starting',\n",
              "    }\n",
              "  };\n",
              "\n",
              "  cancel.remove();\n",
              "\n",
              "  // Disable the input element since further picks are not allowed.\n",
              "  inputElement.disabled = true;\n",
              "\n",
              "  if (!files) {\n",
              "    return {\n",
              "      response: {\n",
              "        action: 'complete',\n",
              "      }\n",
              "    };\n",
              "  }\n",
              "\n",
              "  for (const file of files) {\n",
              "    const li = document.createElement('li');\n",
              "    li.append(span(file.name, {fontWeight: 'bold'}));\n",
              "    li.append(span(\n",
              "        `(${file.type || 'n/a'}) - ${file.size} bytes, ` +\n",
              "        `last modified: ${\n",
              "            file.lastModifiedDate ? file.lastModifiedDate.toLocaleDateString() :\n",
              "                                    'n/a'} - `));\n",
              "    const percent = span('0% done');\n",
              "    li.appendChild(percent);\n",
              "\n",
              "    outputElement.appendChild(li);\n",
              "\n",
              "    const fileDataPromise = new Promise((resolve) => {\n",
              "      const reader = new FileReader();\n",
              "      reader.onload = (e) => {\n",
              "        resolve(e.target.result);\n",
              "      };\n",
              "      reader.readAsArrayBuffer(file);\n",
              "    });\n",
              "    // Wait for the data to be ready.\n",
              "    let fileData = yield {\n",
              "      promise: fileDataPromise,\n",
              "      response: {\n",
              "        action: 'continue',\n",
              "      }\n",
              "    };\n",
              "\n",
              "    // Use a chunked sending to avoid message size limits. See b/62115660.\n",
              "    let position = 0;\n",
              "    do {\n",
              "      const length = Math.min(fileData.byteLength - position, MAX_PAYLOAD_SIZE);\n",
              "      const chunk = new Uint8Array(fileData, position, length);\n",
              "      position += length;\n",
              "\n",
              "      const base64 = btoa(String.fromCharCode.apply(null, chunk));\n",
              "      yield {\n",
              "        response: {\n",
              "          action: 'append',\n",
              "          file: file.name,\n",
              "          data: base64,\n",
              "        },\n",
              "      };\n",
              "\n",
              "      let percentDone = fileData.byteLength === 0 ?\n",
              "          100 :\n",
              "          Math.round((position / fileData.byteLength) * 100);\n",
              "      percent.textContent = `${percentDone}% done`;\n",
              "\n",
              "    } while (position < fileData.byteLength);\n",
              "  }\n",
              "\n",
              "  // All done.\n",
              "  yield {\n",
              "    response: {\n",
              "      action: 'complete',\n",
              "    }\n",
              "  };\n",
              "}\n",
              "\n",
              "scope.google = scope.google || {};\n",
              "scope.google.colab = scope.google.colab || {};\n",
              "scope.google.colab._files = {\n",
              "  _uploadFiles,\n",
              "  _uploadFilesContinue,\n",
              "};\n",
              "})(self);\n",
              "</script> "
            ]
          },
          "metadata": {}
        },
        {
          "output_type": "stream",
          "name": "stdout",
          "text": [
            "Saving sdss classification.csv to sdss classification (1).csv\n"
          ]
        }
      ],
      "source": [
        "import pandas as pd\n",
        "from google.colab import files\n",
        "upload = files.upload()"
      ]
    },
    {
      "cell_type": "markdown",
      "source": [
        "Last time I showed how Random Forest could Classify this data set. However, last time I took out manually some of the features, this time I want python to do it for me. "
      ],
      "metadata": {
        "id": "NeYlmOG6fOWZ"
      }
    },
    {
      "cell_type": "code",
      "source": [
        "import io\n",
        "df = pd.read_csv(io.BytesIO(upload['sdss classification.csv']))"
      ],
      "metadata": {
        "id": "Bg21wNYs4xS3"
      },
      "execution_count": 22,
      "outputs": []
    },
    {
      "cell_type": "code",
      "source": [
        "import numpy as np\n",
        "import matplotlib.pyplot as plt\n",
        "import seaborn as sns\n",
        "from sklearn.model_selection import train_test_split\n",
        "from sklearn.tree import DecisionTreeClassifier\n",
        "from sklearn.ensemble import RandomForestClassifier\n",
        "from sklearn.decomposition import PCA\n",
        "from sklearn.discriminant_analysis import LinearDiscriminantAnalysis\n",
        "from sklearn.metrics import confusion_matrix\n",
        "from sklearn.preprocessing import StandardScaler\n",
        "df"
      ],
      "metadata": {
        "id": "pKpFky2940Gg",
        "colab": {
          "base_uri": "https://localhost:8080/",
          "height": 488
        },
        "outputId": "06354b58-b162-413b-adb7-4fb035411fa0"
      },
      "execution_count": 23,
      "outputs": [
        {
          "output_type": "execute_result",
          "data": {
            "text/plain": [
              "             objid          ra        dec         u         g         r  \\\n",
              "0     1.237650e+18  183.531326   0.089693  19.47406  17.04240  15.94699   \n",
              "1     1.237650e+18  183.598370   0.135285  18.66280  17.21449  16.67637   \n",
              "2     1.237650e+18  183.680207   0.126185  19.38298  18.19169  17.47428   \n",
              "3     1.237650e+18  183.870529   0.049911  17.76536  16.60272  16.16116   \n",
              "4     1.237650e+18  183.883288   0.102557  17.55025  16.26342  16.43869   \n",
              "...            ...         ...        ...       ...       ...       ...   \n",
              "9995  1.237650e+18  131.316413  51.539547  18.81777  17.47053  16.91508   \n",
              "9996  1.237650e+18  131.306083  51.671341  18.27255  17.43849  17.07692   \n",
              "9997  1.237650e+18  131.552562  51.666986  18.75818  17.77784  17.51872   \n",
              "9998  1.237650e+18  131.477151  51.753068  18.88287  17.91068  17.53152   \n",
              "9999  1.237650e+18  131.665012  51.805307  19.27586  17.37829  16.30542   \n",
              "\n",
              "             i         z   run  rerun  camcol  field     specobjid   class  \\\n",
              "0     15.50342  15.22531   752    301       4    267  3.722360e+18    STAR   \n",
              "1     16.48922  16.39150   752    301       4    267  3.638140e+17    STAR   \n",
              "2     17.08732  16.80125   752    301       4    268  3.232740e+17  GALAXY   \n",
              "3     15.98233  15.90438   752    301       4    269  3.722370e+18    STAR   \n",
              "4     16.55492  16.61326   752    301       4    269  3.722370e+18    STAR   \n",
              "...        ...       ...   ...    ...     ...    ...           ...     ...   \n",
              "9995  16.68305  16.50570  1345    301       3    161  5.033450e+17  GALAXY   \n",
              "9996  16.71661  16.69897  1345    301       3    162  5.033400e+17  GALAXY   \n",
              "9997  17.43302  17.42048  1345    301       3    162  8.222620e+18    STAR   \n",
              "9998  17.36284  17.13988  1345    301       3    163  5.033400e+17  GALAXY   \n",
              "9999  15.83548  15.50588  1345    301       3    163  5.033410e+17  GALAXY   \n",
              "\n",
              "      redshift  plate    mjd  fiberid  \n",
              "0    -0.000009   3306  54922      491  \n",
              "1    -0.000055    323  51615      541  \n",
              "2     0.123111    287  52023      513  \n",
              "3    -0.000111   3306  54922      510  \n",
              "4     0.000590   3306  54922      512  \n",
              "...        ...    ...    ...      ...  \n",
              "9995  0.027583    447  51877      246  \n",
              "9996  0.117772    447  51877      228  \n",
              "9997 -0.000402   7303  57013      622  \n",
              "9998  0.014019    447  51877      229  \n",
              "9999  0.118417    447  51877      233  \n",
              "\n",
              "[10000 rows x 18 columns]"
            ],
            "text/html": [
              "\n",
              "  <div id=\"df-4dc327f6-c18e-4ea5-ab0b-eb11ff41a857\">\n",
              "    <div class=\"colab-df-container\">\n",
              "      <div>\n",
              "<style scoped>\n",
              "    .dataframe tbody tr th:only-of-type {\n",
              "        vertical-align: middle;\n",
              "    }\n",
              "\n",
              "    .dataframe tbody tr th {\n",
              "        vertical-align: top;\n",
              "    }\n",
              "\n",
              "    .dataframe thead th {\n",
              "        text-align: right;\n",
              "    }\n",
              "</style>\n",
              "<table border=\"1\" class=\"dataframe\">\n",
              "  <thead>\n",
              "    <tr style=\"text-align: right;\">\n",
              "      <th></th>\n",
              "      <th>objid</th>\n",
              "      <th>ra</th>\n",
              "      <th>dec</th>\n",
              "      <th>u</th>\n",
              "      <th>g</th>\n",
              "      <th>r</th>\n",
              "      <th>i</th>\n",
              "      <th>z</th>\n",
              "      <th>run</th>\n",
              "      <th>rerun</th>\n",
              "      <th>camcol</th>\n",
              "      <th>field</th>\n",
              "      <th>specobjid</th>\n",
              "      <th>class</th>\n",
              "      <th>redshift</th>\n",
              "      <th>plate</th>\n",
              "      <th>mjd</th>\n",
              "      <th>fiberid</th>\n",
              "    </tr>\n",
              "  </thead>\n",
              "  <tbody>\n",
              "    <tr>\n",
              "      <th>0</th>\n",
              "      <td>1.237650e+18</td>\n",
              "      <td>183.531326</td>\n",
              "      <td>0.089693</td>\n",
              "      <td>19.47406</td>\n",
              "      <td>17.04240</td>\n",
              "      <td>15.94699</td>\n",
              "      <td>15.50342</td>\n",
              "      <td>15.22531</td>\n",
              "      <td>752</td>\n",
              "      <td>301</td>\n",
              "      <td>4</td>\n",
              "      <td>267</td>\n",
              "      <td>3.722360e+18</td>\n",
              "      <td>STAR</td>\n",
              "      <td>-0.000009</td>\n",
              "      <td>3306</td>\n",
              "      <td>54922</td>\n",
              "      <td>491</td>\n",
              "    </tr>\n",
              "    <tr>\n",
              "      <th>1</th>\n",
              "      <td>1.237650e+18</td>\n",
              "      <td>183.598370</td>\n",
              "      <td>0.135285</td>\n",
              "      <td>18.66280</td>\n",
              "      <td>17.21449</td>\n",
              "      <td>16.67637</td>\n",
              "      <td>16.48922</td>\n",
              "      <td>16.39150</td>\n",
              "      <td>752</td>\n",
              "      <td>301</td>\n",
              "      <td>4</td>\n",
              "      <td>267</td>\n",
              "      <td>3.638140e+17</td>\n",
              "      <td>STAR</td>\n",
              "      <td>-0.000055</td>\n",
              "      <td>323</td>\n",
              "      <td>51615</td>\n",
              "      <td>541</td>\n",
              "    </tr>\n",
              "    <tr>\n",
              "      <th>2</th>\n",
              "      <td>1.237650e+18</td>\n",
              "      <td>183.680207</td>\n",
              "      <td>0.126185</td>\n",
              "      <td>19.38298</td>\n",
              "      <td>18.19169</td>\n",
              "      <td>17.47428</td>\n",
              "      <td>17.08732</td>\n",
              "      <td>16.80125</td>\n",
              "      <td>752</td>\n",
              "      <td>301</td>\n",
              "      <td>4</td>\n",
              "      <td>268</td>\n",
              "      <td>3.232740e+17</td>\n",
              "      <td>GALAXY</td>\n",
              "      <td>0.123111</td>\n",
              "      <td>287</td>\n",
              "      <td>52023</td>\n",
              "      <td>513</td>\n",
              "    </tr>\n",
              "    <tr>\n",
              "      <th>3</th>\n",
              "      <td>1.237650e+18</td>\n",
              "      <td>183.870529</td>\n",
              "      <td>0.049911</td>\n",
              "      <td>17.76536</td>\n",
              "      <td>16.60272</td>\n",
              "      <td>16.16116</td>\n",
              "      <td>15.98233</td>\n",
              "      <td>15.90438</td>\n",
              "      <td>752</td>\n",
              "      <td>301</td>\n",
              "      <td>4</td>\n",
              "      <td>269</td>\n",
              "      <td>3.722370e+18</td>\n",
              "      <td>STAR</td>\n",
              "      <td>-0.000111</td>\n",
              "      <td>3306</td>\n",
              "      <td>54922</td>\n",
              "      <td>510</td>\n",
              "    </tr>\n",
              "    <tr>\n",
              "      <th>4</th>\n",
              "      <td>1.237650e+18</td>\n",
              "      <td>183.883288</td>\n",
              "      <td>0.102557</td>\n",
              "      <td>17.55025</td>\n",
              "      <td>16.26342</td>\n",
              "      <td>16.43869</td>\n",
              "      <td>16.55492</td>\n",
              "      <td>16.61326</td>\n",
              "      <td>752</td>\n",
              "      <td>301</td>\n",
              "      <td>4</td>\n",
              "      <td>269</td>\n",
              "      <td>3.722370e+18</td>\n",
              "      <td>STAR</td>\n",
              "      <td>0.000590</td>\n",
              "      <td>3306</td>\n",
              "      <td>54922</td>\n",
              "      <td>512</td>\n",
              "    </tr>\n",
              "    <tr>\n",
              "      <th>...</th>\n",
              "      <td>...</td>\n",
              "      <td>...</td>\n",
              "      <td>...</td>\n",
              "      <td>...</td>\n",
              "      <td>...</td>\n",
              "      <td>...</td>\n",
              "      <td>...</td>\n",
              "      <td>...</td>\n",
              "      <td>...</td>\n",
              "      <td>...</td>\n",
              "      <td>...</td>\n",
              "      <td>...</td>\n",
              "      <td>...</td>\n",
              "      <td>...</td>\n",
              "      <td>...</td>\n",
              "      <td>...</td>\n",
              "      <td>...</td>\n",
              "      <td>...</td>\n",
              "    </tr>\n",
              "    <tr>\n",
              "      <th>9995</th>\n",
              "      <td>1.237650e+18</td>\n",
              "      <td>131.316413</td>\n",
              "      <td>51.539547</td>\n",
              "      <td>18.81777</td>\n",
              "      <td>17.47053</td>\n",
              "      <td>16.91508</td>\n",
              "      <td>16.68305</td>\n",
              "      <td>16.50570</td>\n",
              "      <td>1345</td>\n",
              "      <td>301</td>\n",
              "      <td>3</td>\n",
              "      <td>161</td>\n",
              "      <td>5.033450e+17</td>\n",
              "      <td>GALAXY</td>\n",
              "      <td>0.027583</td>\n",
              "      <td>447</td>\n",
              "      <td>51877</td>\n",
              "      <td>246</td>\n",
              "    </tr>\n",
              "    <tr>\n",
              "      <th>9996</th>\n",
              "      <td>1.237650e+18</td>\n",
              "      <td>131.306083</td>\n",
              "      <td>51.671341</td>\n",
              "      <td>18.27255</td>\n",
              "      <td>17.43849</td>\n",
              "      <td>17.07692</td>\n",
              "      <td>16.71661</td>\n",
              "      <td>16.69897</td>\n",
              "      <td>1345</td>\n",
              "      <td>301</td>\n",
              "      <td>3</td>\n",
              "      <td>162</td>\n",
              "      <td>5.033400e+17</td>\n",
              "      <td>GALAXY</td>\n",
              "      <td>0.117772</td>\n",
              "      <td>447</td>\n",
              "      <td>51877</td>\n",
              "      <td>228</td>\n",
              "    </tr>\n",
              "    <tr>\n",
              "      <th>9997</th>\n",
              "      <td>1.237650e+18</td>\n",
              "      <td>131.552562</td>\n",
              "      <td>51.666986</td>\n",
              "      <td>18.75818</td>\n",
              "      <td>17.77784</td>\n",
              "      <td>17.51872</td>\n",
              "      <td>17.43302</td>\n",
              "      <td>17.42048</td>\n",
              "      <td>1345</td>\n",
              "      <td>301</td>\n",
              "      <td>3</td>\n",
              "      <td>162</td>\n",
              "      <td>8.222620e+18</td>\n",
              "      <td>STAR</td>\n",
              "      <td>-0.000402</td>\n",
              "      <td>7303</td>\n",
              "      <td>57013</td>\n",
              "      <td>622</td>\n",
              "    </tr>\n",
              "    <tr>\n",
              "      <th>9998</th>\n",
              "      <td>1.237650e+18</td>\n",
              "      <td>131.477151</td>\n",
              "      <td>51.753068</td>\n",
              "      <td>18.88287</td>\n",
              "      <td>17.91068</td>\n",
              "      <td>17.53152</td>\n",
              "      <td>17.36284</td>\n",
              "      <td>17.13988</td>\n",
              "      <td>1345</td>\n",
              "      <td>301</td>\n",
              "      <td>3</td>\n",
              "      <td>163</td>\n",
              "      <td>5.033400e+17</td>\n",
              "      <td>GALAXY</td>\n",
              "      <td>0.014019</td>\n",
              "      <td>447</td>\n",
              "      <td>51877</td>\n",
              "      <td>229</td>\n",
              "    </tr>\n",
              "    <tr>\n",
              "      <th>9999</th>\n",
              "      <td>1.237650e+18</td>\n",
              "      <td>131.665012</td>\n",
              "      <td>51.805307</td>\n",
              "      <td>19.27586</td>\n",
              "      <td>17.37829</td>\n",
              "      <td>16.30542</td>\n",
              "      <td>15.83548</td>\n",
              "      <td>15.50588</td>\n",
              "      <td>1345</td>\n",
              "      <td>301</td>\n",
              "      <td>3</td>\n",
              "      <td>163</td>\n",
              "      <td>5.033410e+17</td>\n",
              "      <td>GALAXY</td>\n",
              "      <td>0.118417</td>\n",
              "      <td>447</td>\n",
              "      <td>51877</td>\n",
              "      <td>233</td>\n",
              "    </tr>\n",
              "  </tbody>\n",
              "</table>\n",
              "<p>10000 rows × 18 columns</p>\n",
              "</div>\n",
              "      <button class=\"colab-df-convert\" onclick=\"convertToInteractive('df-4dc327f6-c18e-4ea5-ab0b-eb11ff41a857')\"\n",
              "              title=\"Convert this dataframe to an interactive table.\"\n",
              "              style=\"display:none;\">\n",
              "        \n",
              "  <svg xmlns=\"http://www.w3.org/2000/svg\" height=\"24px\"viewBox=\"0 0 24 24\"\n",
              "       width=\"24px\">\n",
              "    <path d=\"M0 0h24v24H0V0z\" fill=\"none\"/>\n",
              "    <path d=\"M18.56 5.44l.94 2.06.94-2.06 2.06-.94-2.06-.94-.94-2.06-.94 2.06-2.06.94zm-11 1L8.5 8.5l.94-2.06 2.06-.94-2.06-.94L8.5 2.5l-.94 2.06-2.06.94zm10 10l.94 2.06.94-2.06 2.06-.94-2.06-.94-.94-2.06-.94 2.06-2.06.94z\"/><path d=\"M17.41 7.96l-1.37-1.37c-.4-.4-.92-.59-1.43-.59-.52 0-1.04.2-1.43.59L10.3 9.45l-7.72 7.72c-.78.78-.78 2.05 0 2.83L4 21.41c.39.39.9.59 1.41.59.51 0 1.02-.2 1.41-.59l7.78-7.78 2.81-2.81c.8-.78.8-2.07 0-2.86zM5.41 20L4 18.59l7.72-7.72 1.47 1.35L5.41 20z\"/>\n",
              "  </svg>\n",
              "      </button>\n",
              "      \n",
              "  <style>\n",
              "    .colab-df-container {\n",
              "      display:flex;\n",
              "      flex-wrap:wrap;\n",
              "      gap: 12px;\n",
              "    }\n",
              "\n",
              "    .colab-df-convert {\n",
              "      background-color: #E8F0FE;\n",
              "      border: none;\n",
              "      border-radius: 50%;\n",
              "      cursor: pointer;\n",
              "      display: none;\n",
              "      fill: #1967D2;\n",
              "      height: 32px;\n",
              "      padding: 0 0 0 0;\n",
              "      width: 32px;\n",
              "    }\n",
              "\n",
              "    .colab-df-convert:hover {\n",
              "      background-color: #E2EBFA;\n",
              "      box-shadow: 0px 1px 2px rgba(60, 64, 67, 0.3), 0px 1px 3px 1px rgba(60, 64, 67, 0.15);\n",
              "      fill: #174EA6;\n",
              "    }\n",
              "\n",
              "    [theme=dark] .colab-df-convert {\n",
              "      background-color: #3B4455;\n",
              "      fill: #D2E3FC;\n",
              "    }\n",
              "\n",
              "    [theme=dark] .colab-df-convert:hover {\n",
              "      background-color: #434B5C;\n",
              "      box-shadow: 0px 1px 3px 1px rgba(0, 0, 0, 0.15);\n",
              "      filter: drop-shadow(0px 1px 2px rgba(0, 0, 0, 0.3));\n",
              "      fill: #FFFFFF;\n",
              "    }\n",
              "  </style>\n",
              "\n",
              "      <script>\n",
              "        const buttonEl =\n",
              "          document.querySelector('#df-4dc327f6-c18e-4ea5-ab0b-eb11ff41a857 button.colab-df-convert');\n",
              "        buttonEl.style.display =\n",
              "          google.colab.kernel.accessAllowed ? 'block' : 'none';\n",
              "\n",
              "        async function convertToInteractive(key) {\n",
              "          const element = document.querySelector('#df-4dc327f6-c18e-4ea5-ab0b-eb11ff41a857');\n",
              "          const dataTable =\n",
              "            await google.colab.kernel.invokeFunction('convertToInteractive',\n",
              "                                                     [key], {});\n",
              "          if (!dataTable) return;\n",
              "\n",
              "          const docLinkHtml = 'Like what you see? Visit the ' +\n",
              "            '<a target=\"_blank\" href=https://colab.research.google.com/notebooks/data_table.ipynb>data table notebook</a>'\n",
              "            + ' to learn more about interactive tables.';\n",
              "          element.innerHTML = '';\n",
              "          dataTable['output_type'] = 'display_data';\n",
              "          await google.colab.output.renderOutput(dataTable, element);\n",
              "          const docLink = document.createElement('div');\n",
              "          docLink.innerHTML = docLinkHtml;\n",
              "          element.appendChild(docLink);\n",
              "        }\n",
              "      </script>\n",
              "    </div>\n",
              "  </div>\n",
              "  "
            ]
          },
          "metadata": {},
          "execution_count": 23
        }
      ]
    },
    {
      "cell_type": "code",
      "source": [
        "def cat_to_num (classCat):\n",
        "    if classCat=='STAR':\n",
        "        return 0\n",
        "    elif classCat=='GALAXY':\n",
        "        return 1\n",
        "    else:\n",
        "        return 2\n",
        "df['class'] = df['class'].apply(cat_to_num)"
      ],
      "metadata": {
        "id": "zlWoQq8N45Ds"
      },
      "execution_count": 24,
      "outputs": []
    },
    {
      "cell_type": "code",
      "source": [
        "df"
      ],
      "metadata": {
        "id": "CBmX0lff499A",
        "colab": {
          "base_uri": "https://localhost:8080/",
          "height": 488
        },
        "outputId": "c8e72038-e710-40bb-e1ea-b159321e8836"
      },
      "execution_count": 25,
      "outputs": [
        {
          "output_type": "execute_result",
          "data": {
            "text/plain": [
              "             objid          ra        dec         u         g         r  \\\n",
              "0     1.237650e+18  183.531326   0.089693  19.47406  17.04240  15.94699   \n",
              "1     1.237650e+18  183.598370   0.135285  18.66280  17.21449  16.67637   \n",
              "2     1.237650e+18  183.680207   0.126185  19.38298  18.19169  17.47428   \n",
              "3     1.237650e+18  183.870529   0.049911  17.76536  16.60272  16.16116   \n",
              "4     1.237650e+18  183.883288   0.102557  17.55025  16.26342  16.43869   \n",
              "...            ...         ...        ...       ...       ...       ...   \n",
              "9995  1.237650e+18  131.316413  51.539547  18.81777  17.47053  16.91508   \n",
              "9996  1.237650e+18  131.306083  51.671341  18.27255  17.43849  17.07692   \n",
              "9997  1.237650e+18  131.552562  51.666986  18.75818  17.77784  17.51872   \n",
              "9998  1.237650e+18  131.477151  51.753068  18.88287  17.91068  17.53152   \n",
              "9999  1.237650e+18  131.665012  51.805307  19.27586  17.37829  16.30542   \n",
              "\n",
              "             i         z   run  rerun  camcol  field     specobjid  class  \\\n",
              "0     15.50342  15.22531   752    301       4    267  3.722360e+18      0   \n",
              "1     16.48922  16.39150   752    301       4    267  3.638140e+17      0   \n",
              "2     17.08732  16.80125   752    301       4    268  3.232740e+17      1   \n",
              "3     15.98233  15.90438   752    301       4    269  3.722370e+18      0   \n",
              "4     16.55492  16.61326   752    301       4    269  3.722370e+18      0   \n",
              "...        ...       ...   ...    ...     ...    ...           ...    ...   \n",
              "9995  16.68305  16.50570  1345    301       3    161  5.033450e+17      1   \n",
              "9996  16.71661  16.69897  1345    301       3    162  5.033400e+17      1   \n",
              "9997  17.43302  17.42048  1345    301       3    162  8.222620e+18      0   \n",
              "9998  17.36284  17.13988  1345    301       3    163  5.033400e+17      1   \n",
              "9999  15.83548  15.50588  1345    301       3    163  5.033410e+17      1   \n",
              "\n",
              "      redshift  plate    mjd  fiberid  \n",
              "0    -0.000009   3306  54922      491  \n",
              "1    -0.000055    323  51615      541  \n",
              "2     0.123111    287  52023      513  \n",
              "3    -0.000111   3306  54922      510  \n",
              "4     0.000590   3306  54922      512  \n",
              "...        ...    ...    ...      ...  \n",
              "9995  0.027583    447  51877      246  \n",
              "9996  0.117772    447  51877      228  \n",
              "9997 -0.000402   7303  57013      622  \n",
              "9998  0.014019    447  51877      229  \n",
              "9999  0.118417    447  51877      233  \n",
              "\n",
              "[10000 rows x 18 columns]"
            ],
            "text/html": [
              "\n",
              "  <div id=\"df-8a1405cc-f3e9-4e2e-8e02-042aa9ed3286\">\n",
              "    <div class=\"colab-df-container\">\n",
              "      <div>\n",
              "<style scoped>\n",
              "    .dataframe tbody tr th:only-of-type {\n",
              "        vertical-align: middle;\n",
              "    }\n",
              "\n",
              "    .dataframe tbody tr th {\n",
              "        vertical-align: top;\n",
              "    }\n",
              "\n",
              "    .dataframe thead th {\n",
              "        text-align: right;\n",
              "    }\n",
              "</style>\n",
              "<table border=\"1\" class=\"dataframe\">\n",
              "  <thead>\n",
              "    <tr style=\"text-align: right;\">\n",
              "      <th></th>\n",
              "      <th>objid</th>\n",
              "      <th>ra</th>\n",
              "      <th>dec</th>\n",
              "      <th>u</th>\n",
              "      <th>g</th>\n",
              "      <th>r</th>\n",
              "      <th>i</th>\n",
              "      <th>z</th>\n",
              "      <th>run</th>\n",
              "      <th>rerun</th>\n",
              "      <th>camcol</th>\n",
              "      <th>field</th>\n",
              "      <th>specobjid</th>\n",
              "      <th>class</th>\n",
              "      <th>redshift</th>\n",
              "      <th>plate</th>\n",
              "      <th>mjd</th>\n",
              "      <th>fiberid</th>\n",
              "    </tr>\n",
              "  </thead>\n",
              "  <tbody>\n",
              "    <tr>\n",
              "      <th>0</th>\n",
              "      <td>1.237650e+18</td>\n",
              "      <td>183.531326</td>\n",
              "      <td>0.089693</td>\n",
              "      <td>19.47406</td>\n",
              "      <td>17.04240</td>\n",
              "      <td>15.94699</td>\n",
              "      <td>15.50342</td>\n",
              "      <td>15.22531</td>\n",
              "      <td>752</td>\n",
              "      <td>301</td>\n",
              "      <td>4</td>\n",
              "      <td>267</td>\n",
              "      <td>3.722360e+18</td>\n",
              "      <td>0</td>\n",
              "      <td>-0.000009</td>\n",
              "      <td>3306</td>\n",
              "      <td>54922</td>\n",
              "      <td>491</td>\n",
              "    </tr>\n",
              "    <tr>\n",
              "      <th>1</th>\n",
              "      <td>1.237650e+18</td>\n",
              "      <td>183.598370</td>\n",
              "      <td>0.135285</td>\n",
              "      <td>18.66280</td>\n",
              "      <td>17.21449</td>\n",
              "      <td>16.67637</td>\n",
              "      <td>16.48922</td>\n",
              "      <td>16.39150</td>\n",
              "      <td>752</td>\n",
              "      <td>301</td>\n",
              "      <td>4</td>\n",
              "      <td>267</td>\n",
              "      <td>3.638140e+17</td>\n",
              "      <td>0</td>\n",
              "      <td>-0.000055</td>\n",
              "      <td>323</td>\n",
              "      <td>51615</td>\n",
              "      <td>541</td>\n",
              "    </tr>\n",
              "    <tr>\n",
              "      <th>2</th>\n",
              "      <td>1.237650e+18</td>\n",
              "      <td>183.680207</td>\n",
              "      <td>0.126185</td>\n",
              "      <td>19.38298</td>\n",
              "      <td>18.19169</td>\n",
              "      <td>17.47428</td>\n",
              "      <td>17.08732</td>\n",
              "      <td>16.80125</td>\n",
              "      <td>752</td>\n",
              "      <td>301</td>\n",
              "      <td>4</td>\n",
              "      <td>268</td>\n",
              "      <td>3.232740e+17</td>\n",
              "      <td>1</td>\n",
              "      <td>0.123111</td>\n",
              "      <td>287</td>\n",
              "      <td>52023</td>\n",
              "      <td>513</td>\n",
              "    </tr>\n",
              "    <tr>\n",
              "      <th>3</th>\n",
              "      <td>1.237650e+18</td>\n",
              "      <td>183.870529</td>\n",
              "      <td>0.049911</td>\n",
              "      <td>17.76536</td>\n",
              "      <td>16.60272</td>\n",
              "      <td>16.16116</td>\n",
              "      <td>15.98233</td>\n",
              "      <td>15.90438</td>\n",
              "      <td>752</td>\n",
              "      <td>301</td>\n",
              "      <td>4</td>\n",
              "      <td>269</td>\n",
              "      <td>3.722370e+18</td>\n",
              "      <td>0</td>\n",
              "      <td>-0.000111</td>\n",
              "      <td>3306</td>\n",
              "      <td>54922</td>\n",
              "      <td>510</td>\n",
              "    </tr>\n",
              "    <tr>\n",
              "      <th>4</th>\n",
              "      <td>1.237650e+18</td>\n",
              "      <td>183.883288</td>\n",
              "      <td>0.102557</td>\n",
              "      <td>17.55025</td>\n",
              "      <td>16.26342</td>\n",
              "      <td>16.43869</td>\n",
              "      <td>16.55492</td>\n",
              "      <td>16.61326</td>\n",
              "      <td>752</td>\n",
              "      <td>301</td>\n",
              "      <td>4</td>\n",
              "      <td>269</td>\n",
              "      <td>3.722370e+18</td>\n",
              "      <td>0</td>\n",
              "      <td>0.000590</td>\n",
              "      <td>3306</td>\n",
              "      <td>54922</td>\n",
              "      <td>512</td>\n",
              "    </tr>\n",
              "    <tr>\n",
              "      <th>...</th>\n",
              "      <td>...</td>\n",
              "      <td>...</td>\n",
              "      <td>...</td>\n",
              "      <td>...</td>\n",
              "      <td>...</td>\n",
              "      <td>...</td>\n",
              "      <td>...</td>\n",
              "      <td>...</td>\n",
              "      <td>...</td>\n",
              "      <td>...</td>\n",
              "      <td>...</td>\n",
              "      <td>...</td>\n",
              "      <td>...</td>\n",
              "      <td>...</td>\n",
              "      <td>...</td>\n",
              "      <td>...</td>\n",
              "      <td>...</td>\n",
              "      <td>...</td>\n",
              "    </tr>\n",
              "    <tr>\n",
              "      <th>9995</th>\n",
              "      <td>1.237650e+18</td>\n",
              "      <td>131.316413</td>\n",
              "      <td>51.539547</td>\n",
              "      <td>18.81777</td>\n",
              "      <td>17.47053</td>\n",
              "      <td>16.91508</td>\n",
              "      <td>16.68305</td>\n",
              "      <td>16.50570</td>\n",
              "      <td>1345</td>\n",
              "      <td>301</td>\n",
              "      <td>3</td>\n",
              "      <td>161</td>\n",
              "      <td>5.033450e+17</td>\n",
              "      <td>1</td>\n",
              "      <td>0.027583</td>\n",
              "      <td>447</td>\n",
              "      <td>51877</td>\n",
              "      <td>246</td>\n",
              "    </tr>\n",
              "    <tr>\n",
              "      <th>9996</th>\n",
              "      <td>1.237650e+18</td>\n",
              "      <td>131.306083</td>\n",
              "      <td>51.671341</td>\n",
              "      <td>18.27255</td>\n",
              "      <td>17.43849</td>\n",
              "      <td>17.07692</td>\n",
              "      <td>16.71661</td>\n",
              "      <td>16.69897</td>\n",
              "      <td>1345</td>\n",
              "      <td>301</td>\n",
              "      <td>3</td>\n",
              "      <td>162</td>\n",
              "      <td>5.033400e+17</td>\n",
              "      <td>1</td>\n",
              "      <td>0.117772</td>\n",
              "      <td>447</td>\n",
              "      <td>51877</td>\n",
              "      <td>228</td>\n",
              "    </tr>\n",
              "    <tr>\n",
              "      <th>9997</th>\n",
              "      <td>1.237650e+18</td>\n",
              "      <td>131.552562</td>\n",
              "      <td>51.666986</td>\n",
              "      <td>18.75818</td>\n",
              "      <td>17.77784</td>\n",
              "      <td>17.51872</td>\n",
              "      <td>17.43302</td>\n",
              "      <td>17.42048</td>\n",
              "      <td>1345</td>\n",
              "      <td>301</td>\n",
              "      <td>3</td>\n",
              "      <td>162</td>\n",
              "      <td>8.222620e+18</td>\n",
              "      <td>0</td>\n",
              "      <td>-0.000402</td>\n",
              "      <td>7303</td>\n",
              "      <td>57013</td>\n",
              "      <td>622</td>\n",
              "    </tr>\n",
              "    <tr>\n",
              "      <th>9998</th>\n",
              "      <td>1.237650e+18</td>\n",
              "      <td>131.477151</td>\n",
              "      <td>51.753068</td>\n",
              "      <td>18.88287</td>\n",
              "      <td>17.91068</td>\n",
              "      <td>17.53152</td>\n",
              "      <td>17.36284</td>\n",
              "      <td>17.13988</td>\n",
              "      <td>1345</td>\n",
              "      <td>301</td>\n",
              "      <td>3</td>\n",
              "      <td>163</td>\n",
              "      <td>5.033400e+17</td>\n",
              "      <td>1</td>\n",
              "      <td>0.014019</td>\n",
              "      <td>447</td>\n",
              "      <td>51877</td>\n",
              "      <td>229</td>\n",
              "    </tr>\n",
              "    <tr>\n",
              "      <th>9999</th>\n",
              "      <td>1.237650e+18</td>\n",
              "      <td>131.665012</td>\n",
              "      <td>51.805307</td>\n",
              "      <td>19.27586</td>\n",
              "      <td>17.37829</td>\n",
              "      <td>16.30542</td>\n",
              "      <td>15.83548</td>\n",
              "      <td>15.50588</td>\n",
              "      <td>1345</td>\n",
              "      <td>301</td>\n",
              "      <td>3</td>\n",
              "      <td>163</td>\n",
              "      <td>5.033410e+17</td>\n",
              "      <td>1</td>\n",
              "      <td>0.118417</td>\n",
              "      <td>447</td>\n",
              "      <td>51877</td>\n",
              "      <td>233</td>\n",
              "    </tr>\n",
              "  </tbody>\n",
              "</table>\n",
              "<p>10000 rows × 18 columns</p>\n",
              "</div>\n",
              "      <button class=\"colab-df-convert\" onclick=\"convertToInteractive('df-8a1405cc-f3e9-4e2e-8e02-042aa9ed3286')\"\n",
              "              title=\"Convert this dataframe to an interactive table.\"\n",
              "              style=\"display:none;\">\n",
              "        \n",
              "  <svg xmlns=\"http://www.w3.org/2000/svg\" height=\"24px\"viewBox=\"0 0 24 24\"\n",
              "       width=\"24px\">\n",
              "    <path d=\"M0 0h24v24H0V0z\" fill=\"none\"/>\n",
              "    <path d=\"M18.56 5.44l.94 2.06.94-2.06 2.06-.94-2.06-.94-.94-2.06-.94 2.06-2.06.94zm-11 1L8.5 8.5l.94-2.06 2.06-.94-2.06-.94L8.5 2.5l-.94 2.06-2.06.94zm10 10l.94 2.06.94-2.06 2.06-.94-2.06-.94-.94-2.06-.94 2.06-2.06.94z\"/><path d=\"M17.41 7.96l-1.37-1.37c-.4-.4-.92-.59-1.43-.59-.52 0-1.04.2-1.43.59L10.3 9.45l-7.72 7.72c-.78.78-.78 2.05 0 2.83L4 21.41c.39.39.9.59 1.41.59.51 0 1.02-.2 1.41-.59l7.78-7.78 2.81-2.81c.8-.78.8-2.07 0-2.86zM5.41 20L4 18.59l7.72-7.72 1.47 1.35L5.41 20z\"/>\n",
              "  </svg>\n",
              "      </button>\n",
              "      \n",
              "  <style>\n",
              "    .colab-df-container {\n",
              "      display:flex;\n",
              "      flex-wrap:wrap;\n",
              "      gap: 12px;\n",
              "    }\n",
              "\n",
              "    .colab-df-convert {\n",
              "      background-color: #E8F0FE;\n",
              "      border: none;\n",
              "      border-radius: 50%;\n",
              "      cursor: pointer;\n",
              "      display: none;\n",
              "      fill: #1967D2;\n",
              "      height: 32px;\n",
              "      padding: 0 0 0 0;\n",
              "      width: 32px;\n",
              "    }\n",
              "\n",
              "    .colab-df-convert:hover {\n",
              "      background-color: #E2EBFA;\n",
              "      box-shadow: 0px 1px 2px rgba(60, 64, 67, 0.3), 0px 1px 3px 1px rgba(60, 64, 67, 0.15);\n",
              "      fill: #174EA6;\n",
              "    }\n",
              "\n",
              "    [theme=dark] .colab-df-convert {\n",
              "      background-color: #3B4455;\n",
              "      fill: #D2E3FC;\n",
              "    }\n",
              "\n",
              "    [theme=dark] .colab-df-convert:hover {\n",
              "      background-color: #434B5C;\n",
              "      box-shadow: 0px 1px 3px 1px rgba(0, 0, 0, 0.15);\n",
              "      filter: drop-shadow(0px 1px 2px rgba(0, 0, 0, 0.3));\n",
              "      fill: #FFFFFF;\n",
              "    }\n",
              "  </style>\n",
              "\n",
              "      <script>\n",
              "        const buttonEl =\n",
              "          document.querySelector('#df-8a1405cc-f3e9-4e2e-8e02-042aa9ed3286 button.colab-df-convert');\n",
              "        buttonEl.style.display =\n",
              "          google.colab.kernel.accessAllowed ? 'block' : 'none';\n",
              "\n",
              "        async function convertToInteractive(key) {\n",
              "          const element = document.querySelector('#df-8a1405cc-f3e9-4e2e-8e02-042aa9ed3286');\n",
              "          const dataTable =\n",
              "            await google.colab.kernel.invokeFunction('convertToInteractive',\n",
              "                                                     [key], {});\n",
              "          if (!dataTable) return;\n",
              "\n",
              "          const docLinkHtml = 'Like what you see? Visit the ' +\n",
              "            '<a target=\"_blank\" href=https://colab.research.google.com/notebooks/data_table.ipynb>data table notebook</a>'\n",
              "            + ' to learn more about interactive tables.';\n",
              "          element.innerHTML = '';\n",
              "          dataTable['output_type'] = 'display_data';\n",
              "          await google.colab.output.renderOutput(dataTable, element);\n",
              "          const docLink = document.createElement('div');\n",
              "          docLink.innerHTML = docLinkHtml;\n",
              "          element.appendChild(docLink);\n",
              "        }\n",
              "      </script>\n",
              "    </div>\n",
              "  </div>\n",
              "  "
            ]
          },
          "metadata": {},
          "execution_count": 25
        }
      ]
    },
    {
      "cell_type": "code",
      "source": [
        "#Splitting the data to separate target from features\n",
        "X = df.drop('class', axis=1)\n",
        "y = df['class']"
      ],
      "metadata": {
        "id": "n9YloabC6HqE"
      },
      "execution_count": 26,
      "outputs": []
    },
    {
      "cell_type": "code",
      "source": [
        "pca = PCA().fit(X)\n",
        "plt.plot(pca.explained_variance_ratio_)\n",
        "plt.xlabel('number of components')\n",
        "plt.ylabel('cumulative explained variance');"
      ],
      "metadata": {
        "id": "DfWH7Fq75A7r",
        "colab": {
          "base_uri": "https://localhost:8080/",
          "height": 279
        },
        "outputId": "25fdf19d-cc0a-462f-c734-6d441fbb8b08"
      },
      "execution_count": 27,
      "outputs": [
        {
          "output_type": "display_data",
          "data": {
            "text/plain": [
              "<Figure size 432x288 with 1 Axes>"
            ],
            "image/png": "[encoded data removed]"
          },
          "metadata": {
            "needs_background": "light"
          }
        }
      ]
    },
    {
      "cell_type": "markdown",
      "source": [
        "One can see that there is a feature which is getting all the variance because the data is not scaled, so I need to scale the data first. "
      ],
      "metadata": {
        "id": "DgKb4CtGYT3x"
      }
    },
    {
      "cell_type": "code",
      "source": [
        "scaler = StandardScaler()\n",
        "scaler.fit(X)\n",
        "X_scaled = scaler.transform(X)"
      ],
      "metadata": {
        "id": "3zNvSQ70mtbl"
      },
      "execution_count": 28,
      "outputs": []
    },
    {
      "cell_type": "code",
      "source": [
        "pca = PCA().fit(X_scaled)\n",
        "plt.plot(np.cumsum(pca.explained_variance_ratio_))\n",
        "plt.xlabel('number of components')\n",
        "plt.ylabel('cumulative explained variance');"
      ],
      "metadata": {
        "id": "ioUGdUQfm6I2",
        "colab": {
          "base_uri": "https://localhost:8080/",
          "height": 279
        },
        "outputId": "ed84cc01-9f58-4788-ba2b-ee26c93f02c7"
      },
      "execution_count": 29,
      "outputs": [
        {
          "output_type": "display_data",
          "data": {
            "text/plain": [
              "<Figure size 432x288 with 1 Axes>"
            ],
            "image/png": "[encoded data removed]"
          },
          "metadata": {
            "needs_background": "light"
          }
        }
      ]
    },
    {
      "cell_type": "code",
      "source": [
        "pca = PCA(7)\n",
        "X_proj = pca.fit_transform(X_scaled)\n",
        "X_train, X_test, y_train, y_test = train_test_split(X_proj, y, train_size=0.8, shuffle=True)\n"
      ],
      "metadata": {
        "id": "49cPanD06U7l"
      },
      "execution_count": 30,
      "outputs": []
    },
    {
      "cell_type": "code",
      "source": [
        "#Modeling using Decision Tree\n",
        "Model_Tree = DecisionTreeClassifier().fit(X_train,y_train)\n",
        "y_pred = Model_Tree.predict(X_test)"
      ],
      "metadata": {
        "id": "fI7hmT0aA382"
      },
      "execution_count": 31,
      "outputs": []
    },
    {
      "cell_type": "code",
      "source": [
        "mat = confusion_matrix(y_test, y_pred)\n",
        "sns.heatmap(mat.T, square=True, annot=True, fmt='d', cbar=False)\n",
        "plt.xlabel('true label')\n",
        "plt.ylabel('predicted label');"
      ],
      "metadata": {
        "id": "c5jy3B57A5JP",
        "colab": {
          "base_uri": "https://localhost:8080/",
          "height": 279
        },
        "outputId": "d66f32aa-74eb-412c-be25-6fcede3c7529"
      },
      "execution_count": 32,
      "outputs": [
        {
          "output_type": "display_data",
          "data": {
            "text/plain": [
              "<Figure size 432x288 with 1 Axes>"
            ],
            "image/png": "[encoded data removed]"
          },
          "metadata": {
            "needs_background": "light"
          }
        }
      ]
    },
    {
      "cell_type": "code",
      "source": [
        "print(pca.explained_variance_ratio_)"
      ],
      "metadata": {
        "id": "7WR9C4sVBCHM",
        "colab": {
          "base_uri": "https://localhost:8080/"
        },
        "outputId": "f8657a23-2241-44e7-c00b-5512f49223aa"
      },
      "execution_count": 33,
      "outputs": [
        {
          "output_type": "stream",
          "name": "stdout",
          "text": [
            "[0.30675716 0.2125822  0.13579038 0.10241795 0.08306836 0.0581675\n",
            " 0.03062928]\n"
          ]
        }
      ]
    },
    {
      "cell_type": "code",
      "source": [
        "#Random Forest Model\n",
        "Model_Forest = RandomForestClassifier(n_estimators =100, random_state =44)\n",
        "Model_Forest.fit(X_train, y_train)\n",
        "y_forpred = Model_Forest.predict(X_test)"
      ],
      "metadata": {
        "id": "kZmdUqzhyi91"
      },
      "execution_count": 34,
      "outputs": []
    },
    {
      "cell_type": "code",
      "source": [
        "mat = confusion_matrix(y_test, y_forpred)\n",
        "sns.heatmap(mat.T, square=True, annot=True, fmt='d', cbar=False)\n",
        "plt.xlabel('true label')\n",
        "plt.ylabel('predicted label');"
      ],
      "metadata": {
        "id": "mBENYZT8ykHC",
        "colab": {
          "base_uri": "https://localhost:8080/",
          "height": 279
        },
        "outputId": "febf1fca-f215-4385-ce09-d0e434e6f26d"
      },
      "execution_count": 35,
      "outputs": [
        {
          "output_type": "display_data",
          "data": {
            "text/plain": [
              "<Figure size 432x288 with 1 Axes>"
            ],
            "image/png": "[encoded data removed]"
          },
          "metadata": {
            "needs_background": "light"
          }
        }
      ]
    },
    {
      "cell_type": "markdown",
      "source": [
        "LET'S TRY ANOTHER METHOD AND SEE IF IT WORKS BETTER SUCH AS LDA."
      ],
      "metadata": {
        "id": "afjnLzd4LZ54"
      }
    },
    {
      "cell_type": "code",
      "source": [
        "from sklearn.discriminant_analysis import LinearDiscriminantAnalysis as LDA\n",
        "\n",
        "lda = LDA(n_components=2)\n",
        "\n",
        "X_train1, X_test1, y_train1, y_test1 = train_test_split(X_scaled, y, train_size=0.8, shuffle=True)\n",
        "\n",
        "X_lda_train = lda.fit_transform(X_train1, y_train1)\n",
        "X_lda_test = lda.transform(X_test1)"
      ],
      "metadata": {
        "id": "qTsgYyR8Fn_v"
      },
      "execution_count": 36,
      "outputs": []
    },
    {
      "cell_type": "code",
      "source": [
        "Model_Forest = RandomForestClassifier(n_estimators =100, random_state =44)\n",
        "Model_Forest.fit(X_lda_train,y_train1)\n",
        "y_lda_pred = Model_Forest.predict(X_lda_test)"
      ],
      "metadata": {
        "id": "Bvrzl_a2GHDQ"
      },
      "execution_count": 37,
      "outputs": []
    },
    {
      "cell_type": "code",
      "source": [
        "mat1 = confusion_matrix(y_test1, y_lda_pred)\n",
        "sns.heatmap(mat1.T, square=True, annot=True, fmt='d', cbar=False)\n",
        "plt.xlabel('true label')\n",
        "plt.ylabel('predicted label')"
      ],
      "metadata": {
        "id": "aD69k1gDGc0S",
        "colab": {
          "base_uri": "https://localhost:8080/",
          "height": 296
        },
        "outputId": "573c7f75-d816-44db-eaaf-5963db418437"
      },
      "execution_count": 38,
      "outputs": [
        {
          "output_type": "execute_result",
          "data": {
            "text/plain": [
              "Text(91.68, 0.5, 'predicted label')"
            ]
          },
          "metadata": {},
          "execution_count": 38
        },
        {
          "output_type": "display_data",
          "data": {
            "text/plain": [
              "<Figure size 432x288 with 1 Axes>"
            ],
            "image/png": "[encoded data removed]"
          },
          "metadata": {
            "needs_background": "light"
          }
        }
      ]
    },
    {
      "cell_type": "markdown",
      "source": [
        "IT WORKS BETTER, BUT MAYBE THE DATA IS NON-LINEAR AND ANOTHER METHOD SUCH AS KERNELPCA WORKS BETTER"
      ],
      "metadata": {
        "id": "bKlSgzEeLwKX"
      }
    },
    {
      "cell_type": "code",
      "source": [
        "from sklearn.decomposition import KernelPCA\n",
        "\n",
        "X_train2, X_test2, y_train2, y_test2 = train_test_split(X_scaled, y, train_size=0.5, shuffle=True)\n",
        "\n",
        "kpca = KernelPCA(kernel=\"rbf\", fit_inverse_transform=True, gamma=10)\n",
        "X_kpca = kpca.fit_transform(X_train2)\n",
        "X_kpca_train = kpca.inverse_transform(X_kpca)\n",
        "X_kpca1 = kpca.transform(X_test2)\n",
        "X_kpca_test = kpca.inverse_transform(X_kpca1)"
      ],
      "metadata": {
        "id": "uhBosNlEes0_"
      },
      "execution_count": 39,
      "outputs": []
    },
    {
      "cell_type": "code",
      "source": [
        "Model_Forest = RandomForestClassifier(n_estimators =100, random_state =44)\n",
        "Model_Forest.fit(X_kpca_train,y_train2)\n",
        "y_kpca_pred = Model_Forest.predict(X_kpca_test)"
      ],
      "metadata": {
        "id": "M-Slv92EMZGa"
      },
      "execution_count": 40,
      "outputs": []
    },
    {
      "cell_type": "code",
      "source": [
        "mat1 = confusion_matrix(y_test2, y_kpca_pred)\n",
        "sns.heatmap(mat1.T, square=True, annot=True, fmt='d', cbar=False)\n",
        "plt.xlabel('true label')\n",
        "plt.ylabel('predicted label')"
      ],
      "metadata": {
        "id": "bqNHZ-7qT69v",
        "colab": {
          "base_uri": "https://localhost:8080/",
          "height": 296
        },
        "outputId": "72d7eac5-984a-4679-98a8-7953983eff1d"
      },
      "execution_count": 41,
      "outputs": [
        {
          "output_type": "execute_result",
          "data": {
            "text/plain": [
              "Text(91.68, 0.5, 'predicted label')"
            ]
          },
          "metadata": {},
          "execution_count": 41
        },
        {
          "output_type": "display_data",
          "data": {
            "text/plain": [
              "<Figure size 432x288 with 1 Axes>"
            ],
            "image/png": "[encoded data removed]"
          },
          "metadata": {
            "needs_background": "light"
          }
        }
      ]
    },
    {
      "cell_type": "markdown",
      "source": [
        "Ok, so we have seen the best PCA method to use so far is LDA. What happens if I combine LDA with Deep Learning? Let's find out! "
      ],
      "metadata": {
        "id": "RBzLhcQ1KwlL"
      }
    },
    {
      "cell_type": "code",
      "source": [
        "X_lda_train[:,:].shape"
      ],
      "metadata": {
        "id": "2bTEXEL9K6s-",
        "colab": {
          "base_uri": "https://localhost:8080/"
        },
        "outputId": "fc0c70b8-e75d-4e66-d9a8-4469e72e9231"
      },
      "execution_count": 42,
      "outputs": [
        {
          "output_type": "execute_result",
          "data": {
            "text/plain": [
              "(8000, 2)"
            ]
          },
          "metadata": {},
          "execution_count": 42
        }
      ]
    },
    {
      "cell_type": "code",
      "source": [
        "from keras import models\n",
        "from keras import layers\n",
        "\n",
        "model = models.Sequential()\n",
        "#model.add(layers.Dense(10, activation='relu', input_shape=(2,)))\n",
        "model.add(layers.Dense(10, activation='relu'))\n",
        "model.add(layers.Dense(10, activation='relu'))\n",
        "model.add(layers.Dense(3, activation='softmax'))"
      ],
      "metadata": {
        "id": "922QDd4iLt7T"
      },
      "execution_count": 76,
      "outputs": []
    },
    {
      "cell_type": "code",
      "source": [
        "model.compile(optimizer='rmsprop',\n",
        "              loss='categorical_crossentropy',\n",
        "              metrics=['accuracy'])"
      ],
      "metadata": {
        "id": "6KIJPBcdO8bx"
      },
      "execution_count": 77,
      "outputs": []
    },
    {
      "cell_type": "code",
      "source": [
        "x_val = X_lda_train[:1000]\n",
        "partial_x_train = X_lda_train[1000:]\n",
        "\n",
        "y_val = y_train1[:1000]\n",
        "partial_y_train = y_train1[1000:]"
      ],
      "metadata": {
        "id": "nwbRu7y23Boo"
      },
      "execution_count": 78,
      "outputs": []
    },
    {
      "cell_type": "code",
      "source": [
        "from keras.utils.np_utils import to_categorical\n",
        "\n",
        "one_hot_train_labels = to_categorical(partial_y_train)\n",
        "one_hot_val_labels = to_categorical(y_val)"
      ],
      "metadata": {
        "id": "I71DxETo_YjR"
      },
      "execution_count": 79,
      "outputs": []
    },
    {
      "cell_type": "code",
      "source": [
        "x_val.shape"
      ],
      "metadata": {
        "id": "LuHksvE463Mj",
        "colab": {
          "base_uri": "https://localhost:8080/"
        },
        "outputId": "e1254ef3-c5be-4786-dc10-87e216dd365a"
      },
      "execution_count": 80,
      "outputs": [
        {
          "output_type": "execute_result",
          "data": {
            "text/plain": [
              "(1000, 2)"
            ]
          },
          "metadata": {},
          "execution_count": 80
        }
      ]
    },
    {
      "cell_type": "code",
      "source": [
        "one_hot_val_labels.shape"
      ],
      "metadata": {
        "id": "NcKKcI2b7K3w",
        "colab": {
          "base_uri": "https://localhost:8080/"
        },
        "outputId": "7df080c3-9104-46fc-a9b1-9489d7265c6f"
      },
      "execution_count": 81,
      "outputs": [
        {
          "output_type": "execute_result",
          "data": {
            "text/plain": [
              "(1000, 3)"
            ]
          },
          "metadata": {},
          "execution_count": 81
        }
      ]
    },
    {
      "cell_type": "code",
      "source": [
        "history = model.fit(partial_x_train,\n",
        "                    one_hot_train_labels,\n",
        "                    epochs=35,\n",
        "                    batch_size=600,\n",
        "                    validation_data=(x_val, one_hot_val_labels))"
      ],
      "metadata": {
        "id": "EcNUBbeT3UuA",
        "colab": {
          "base_uri": "https://localhost:8080/"
        },
        "outputId": "eefc046d-45de-43db-c2ea-60d339b06fa2"
      },
      "execution_count": 82,
      "outputs": [
        {
          "output_type": "stream",
          "name": "stdout",
          "text": [
            "Epoch 1/35\n",
            "12/12 [==============================] - 1s 19ms/step - loss: 0.8745 - accuracy: 0.7977 - val_loss: 0.8319 - val_accuracy: 0.8370\n",
            "Epoch 2/35\n",
            "12/12 [==============================] - 0s 4ms/step - loss: 0.7998 - accuracy: 0.8689 - val_loss: 0.7703 - val_accuracy: 0.8730\n",
            "Epoch 3/35\n",
            "12/12 [==============================] - 0s 4ms/step - loss: 0.7429 - accuracy: 0.8946 - val_loss: 0.7158 - val_accuracy: 0.8920\n",
            "Epoch 4/35\n",
            "12/12 [==============================] - 0s 4ms/step - loss: 0.6907 - accuracy: 0.9076 - val_loss: 0.6647 - val_accuracy: 0.9100\n",
            "Epoch 5/35\n",
            "12/12 [==============================] - 0s 4ms/step - loss: 0.6414 - accuracy: 0.9117 - val_loss: 0.6163 - val_accuracy: 0.9140\n",
            "Epoch 6/35\n",
            "12/12 [==============================] - 0s 4ms/step - loss: 0.5945 - accuracy: 0.9123 - val_loss: 0.5706 - val_accuracy: 0.9150\n",
            "Epoch 7/35\n",
            "12/12 [==============================] - 0s 5ms/step - loss: 0.5501 - accuracy: 0.9137 - val_loss: 0.5278 - val_accuracy: 0.9160\n",
            "Epoch 8/35\n",
            "12/12 [==============================] - 0s 4ms/step - loss: 0.5086 - accuracy: 0.9149 - val_loss: 0.4881 - val_accuracy: 0.9200\n",
            "Epoch 9/35\n",
            "12/12 [==============================] - 0s 4ms/step - loss: 0.4704 - accuracy: 0.9171 - val_loss: 0.4520 - val_accuracy: 0.9230\n",
            "Epoch 10/35\n",
            "12/12 [==============================] - 0s 4ms/step - loss: 0.4357 - accuracy: 0.9179 - val_loss: 0.4194 - val_accuracy: 0.9220\n",
            "Epoch 11/35\n",
            "12/12 [==============================] - 0s 7ms/step - loss: 0.4045 - accuracy: 0.9201 - val_loss: 0.3900 - val_accuracy: 0.9230\n",
            "Epoch 12/35\n",
            "12/12 [==============================] - 0s 5ms/step - loss: 0.3768 - accuracy: 0.9219 - val_loss: 0.3640 - val_accuracy: 0.9250\n",
            "Epoch 13/35\n",
            "12/12 [==============================] - 0s 5ms/step - loss: 0.3523 - accuracy: 0.9239 - val_loss: 0.3406 - val_accuracy: 0.9240\n",
            "Epoch 14/35\n",
            "12/12 [==============================] - 0s 6ms/step - loss: 0.3305 - accuracy: 0.9240 - val_loss: 0.3200 - val_accuracy: 0.9240\n",
            "Epoch 15/35\n",
            "12/12 [==============================] - 0s 5ms/step - loss: 0.3115 - accuracy: 0.9254 - val_loss: 0.3019 - val_accuracy: 0.9240\n",
            "Epoch 16/35\n",
            "12/12 [==============================] - 0s 5ms/step - loss: 0.2947 - accuracy: 0.9280 - val_loss: 0.2859 - val_accuracy: 0.9270\n",
            "Epoch 17/35\n",
            "12/12 [==============================] - 0s 4ms/step - loss: 0.2798 - accuracy: 0.9300 - val_loss: 0.2715 - val_accuracy: 0.9260\n",
            "Epoch 18/35\n",
            "12/12 [==============================] - 0s 4ms/step - loss: 0.2668 - accuracy: 0.9314 - val_loss: 0.2588 - val_accuracy: 0.9280\n",
            "Epoch 19/35\n",
            "12/12 [==============================] - 0s 5ms/step - loss: 0.2552 - accuracy: 0.9324 - val_loss: 0.2473 - val_accuracy: 0.9280\n",
            "Epoch 20/35\n",
            "12/12 [==============================] - 0s 4ms/step - loss: 0.2450 - accuracy: 0.9324 - val_loss: 0.2372 - val_accuracy: 0.9340\n",
            "Epoch 21/35\n",
            "12/12 [==============================] - 0s 4ms/step - loss: 0.2363 - accuracy: 0.9330 - val_loss: 0.2284 - val_accuracy: 0.9340\n",
            "Epoch 22/35\n",
            "12/12 [==============================] - 0s 5ms/step - loss: 0.2287 - accuracy: 0.9334 - val_loss: 0.2207 - val_accuracy: 0.9340\n",
            "Epoch 23/35\n",
            "12/12 [==============================] - 0s 4ms/step - loss: 0.2220 - accuracy: 0.9354 - val_loss: 0.2137 - val_accuracy: 0.9360\n",
            "Epoch 24/35\n",
            "12/12 [==============================] - 0s 4ms/step - loss: 0.2163 - accuracy: 0.9354 - val_loss: 0.2078 - val_accuracy: 0.9360\n",
            "Epoch 25/35\n",
            "12/12 [==============================] - 0s 5ms/step - loss: 0.2113 - accuracy: 0.9361 - val_loss: 0.2023 - val_accuracy: 0.9360\n",
            "Epoch 26/35\n",
            "12/12 [==============================] - 0s 4ms/step - loss: 0.2068 - accuracy: 0.9366 - val_loss: 0.1973 - val_accuracy: 0.9380\n",
            "Epoch 27/35\n",
            "12/12 [==============================] - 0s 5ms/step - loss: 0.2026 - accuracy: 0.9383 - val_loss: 0.1923 - val_accuracy: 0.9390\n",
            "Epoch 28/35\n",
            "12/12 [==============================] - 0s 4ms/step - loss: 0.1989 - accuracy: 0.9387 - val_loss: 0.1882 - val_accuracy: 0.9400\n",
            "Epoch 29/35\n",
            "12/12 [==============================] - 0s 4ms/step - loss: 0.1959 - accuracy: 0.9390 - val_loss: 0.1846 - val_accuracy: 0.9400\n",
            "Epoch 30/35\n",
            "12/12 [==============================] - 0s 5ms/step - loss: 0.1935 - accuracy: 0.9393 - val_loss: 0.1814 - val_accuracy: 0.9400\n",
            "Epoch 31/35\n",
            "12/12 [==============================] - 0s 4ms/step - loss: 0.1911 - accuracy: 0.9394 - val_loss: 0.1786 - val_accuracy: 0.9410\n",
            "Epoch 32/35\n",
            "12/12 [==============================] - 0s 4ms/step - loss: 0.1891 - accuracy: 0.9399 - val_loss: 0.1760 - val_accuracy: 0.9420\n",
            "Epoch 33/35\n",
            "12/12 [==============================] - 0s 4ms/step - loss: 0.1872 - accuracy: 0.9404 - val_loss: 0.1734 - val_accuracy: 0.9450\n",
            "Epoch 34/35\n",
            "12/12 [==============================] - 0s 4ms/step - loss: 0.1856 - accuracy: 0.9403 - val_loss: 0.1714 - val_accuracy: 0.9450\n",
            "Epoch 35/35\n",
            "12/12 [==============================] - 0s 5ms/step - loss: 0.1842 - accuracy: 0.9411 - val_loss: 0.1699 - val_accuracy: 0.9450\n"
          ]
        }
      ]
    },
    {
      "cell_type": "code",
      "source": [
        "loss = history.history['loss']\n",
        "val_loss = history.history['val_loss']\n",
        "\n",
        "epochs = range(1, len(loss) + 1)\n",
        "\n",
        "plt.plot(epochs, loss, 'bo', label='Training loss')\n",
        "plt.plot(epochs, val_loss, 'b', label='Validation loss')\n",
        "plt.title('Training and validation loss')\n",
        "plt.xlabel('Epochs')\n",
        "plt.ylabel('Loss')\n",
        "plt.legend()\n",
        "\n",
        "plt.show()"
      ],
      "metadata": {
        "id": "vFWLp7bs3svn",
        "colab": {
          "base_uri": "https://localhost:8080/",
          "height": 295
        },
        "outputId": "d5ef2954-2a31-4151-c62c-0ff540c1d970"
      },
      "execution_count": 83,
      "outputs": [
        {
          "output_type": "display_data",
          "data": {
            "text/plain": [
              "<Figure size 432x288 with 1 Axes>"
            ],
            "image/png": "[encoded data removed]"
          },
          "metadata": {
            "needs_background": "light"
          }
        }
      ]
    },
    {
      "cell_type": "code",
      "source": [
        "plt.clf()   # clear figure\n",
        "\n",
        "acc = history.history['accuracy']\n",
        "val_acc = history.history['val_accuracy']\n",
        "\n",
        "plt.plot(epochs, acc, 'bo', label='Training acc')\n",
        "plt.plot(epochs, val_acc, 'b', label='Validation acc')\n",
        "plt.title('Training and validation accuracy')\n",
        "plt.xlabel('Epochs')\n",
        "plt.ylabel('Loss')\n",
        "plt.legend()\n",
        "\n",
        "plt.show()"
      ],
      "metadata": {
        "id": "7eqgh5k63xgb",
        "colab": {
          "base_uri": "https://localhost:8080/",
          "height": 295
        },
        "outputId": "85d3b9ea-3e71-460c-8189-1ec32e2e307a"
      },
      "execution_count": 84,
      "outputs": [
        {
          "output_type": "display_data",
          "data": {
            "text/plain": [
              "<Figure size 432x288 with 1 Axes>"
            ],
            "image/png": "[encoded data removed]"
          },
          "metadata": {
            "needs_background": "light"
          }
        }
      ]
    },
    {
      "cell_type": "code",
      "source": [
        "predictions = model.predict(X_lda_test)"
      ],
      "metadata": {
        "id": "l5MRCuKL4OJc",
        "colab": {
          "base_uri": "https://localhost:8080/"
        },
        "outputId": "73332605-ea33-4b6a-cfcc-8f983bc5a752"
      },
      "execution_count": 86,
      "outputs": [
        {
          "output_type": "stream",
          "name": "stdout",
          "text": [
            "63/63 [==============================] - 1s 2ms/step\n"
          ]
        }
      ]
    },
    {
      "cell_type": "code",
      "source": [
        "predictions.shape, predictions[0]"
      ],
      "metadata": {
        "id": "zWtZ-nJY4PZE",
        "colab": {
          "base_uri": "https://localhost:8080/"
        },
        "outputId": "c5202ef6-4087-4923-ccdc-802bfb0cbb59"
      },
      "execution_count": 90,
      "outputs": [
        {
          "output_type": "execute_result",
          "data": {
            "text/plain": [
              "((2000, 3), array([0.01501109, 0.10361593, 0.8813729 ], dtype=float32))"
            ]
          },
          "metadata": {},
          "execution_count": 90
        }
      ]
    },
    {
      "cell_type": "code",
      "source": [
        "y_test1.shape"
      ],
      "metadata": {
        "colab": {
          "base_uri": "https://localhost:8080/"
        },
        "id": "F6duDF3_PMMQ",
        "outputId": "787af198-287b-4b23-cad9-5facd34f58f7"
      },
      "execution_count": 89,
      "outputs": [
        {
          "output_type": "execute_result",
          "data": {
            "text/plain": [
              "(2000,)"
            ]
          },
          "metadata": {},
          "execution_count": 89
        }
      ]
    },
    {
      "cell_type": "code",
      "source": [
        "#We need to get labels from the predictions so let's create a function to do that \n",
        "def prediction_label(predictions):\n",
        "  r = np.zeros(len(predictions))\n",
        "  for i in range(len(predictions)):\n",
        "    r[i] = np.argmax(predictions[i])\n",
        "  return r "
      ],
      "metadata": {
        "id": "nGG9aR9bPjeq"
      },
      "execution_count": 107,
      "outputs": []
    },
    {
      "cell_type": "code",
      "source": [
        "y_DL_pred = prediction_label(predictions)"
      ],
      "metadata": {
        "id": "LENDxPjcP3T-"
      },
      "execution_count": 108,
      "outputs": []
    },
    {
      "cell_type": "code",
      "source": [
        "pred_df = pd.DataFrame(y_DL_pred)"
      ],
      "metadata": {
        "id": "WLwtqLoTQ2nL"
      },
      "execution_count": 109,
      "outputs": []
    },
    {
      "cell_type": "code",
      "source": [
        "mat1 = confusion_matrix(y_test1, pred_df)\n",
        "sns.heatmap(mat1.T, square=True, annot=True, fmt='d', cbar=False)\n",
        "plt.xlabel('true label')\n",
        "plt.ylabel('predicted label')"
      ],
      "metadata": {
        "colab": {
          "base_uri": "https://localhost:8080/",
          "height": 296
        },
        "id": "cFihBEpWQ8YP",
        "outputId": "f1ad9a6a-b55c-472c-99fd-daf6d5f5b8af"
      },
      "execution_count": 110,
      "outputs": [
        {
          "output_type": "execute_result",
          "data": {
            "text/plain": [
              "Text(91.68, 0.5, 'predicted label')"
            ]
          },
          "metadata": {},
          "execution_count": 110
        },
        {
          "output_type": "display_data",
          "data": {
            "text/plain": [
              "<Figure size 432x288 with 1 Axes>"
            ],
            "image/png": "[encoded data removed]"
          },
          "metadata": {
            "needs_background": "light"
          }
        }
      ]
    }
  ]
}